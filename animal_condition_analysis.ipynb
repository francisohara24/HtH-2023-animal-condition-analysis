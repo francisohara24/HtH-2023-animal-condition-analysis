{
 "cells": [
  {
   "cell_type": "markdown",
   "id": "af436efdaed8974d",
   "metadata": {
    "collapsed": false
   },
   "source": [
    "## Instructions\n",
    "Project Tasks:\n",
    "1. Find a dataset you want to analyze on Kaggle or another site (make sure the dataset is in one file, csv format!)\n",
    "2. Create a GitHub repository for your final project and clone it in your local computer\n",
    "3. Create a README.md for the repository that briefly explains why you were interested in this data and a list of at least 10 questions you want to answer using the dataset with, at least, 1 visualization per question.\n",
    "4. Create a Jupyter notebook file for your data analysis in your local copy of the repository.\n",
    "5. Add the dataset, Jupyter notebook file, and READMEmd to your repository, commit the changes, and push them to origin."
   ]
  },
  {
   "cell_type": "markdown",
   "id": "70f3de245da89f46",
   "metadata": {
    "collapsed": false
   },
   "source": [
    "## Preliminary Analysis\n",
    "1. Describe the data set\n",
    "2. List all columns and datatype of each column\n",
    "3. List all null columns"
   ]
  },
  {
   "cell_type": "markdown",
   "id": "9be382443acf9e75",
   "metadata": {
    "collapsed": false
   },
   "source": [
    "#### Import the dataset"
   ]
  },
  {
   "cell_type": "code",
   "execution_count": 2,
   "id": "9fedb6f5083b6ca0",
   "metadata": {
    "collapsed": false,
    "ExecuteTime": {
     "end_time": "2023-12-12T23:45:21.469211Z",
     "start_time": "2023-12-12T23:45:19.188580Z"
    }
   },
   "outputs": [
    {
     "name": "stdout",
     "output_type": "stream",
     "text": [
      "Requirement already satisfied: pandas in ./venv/lib/python3.11/site-packages (2.1.3)\r\n",
      "Requirement already satisfied: matplotlib in ./venv/lib/python3.11/site-packages (3.8.2)\r\n",
      "Requirement already satisfied: seaborn in ./venv/lib/python3.11/site-packages (0.13.0)\r\n",
      "Requirement already satisfied: numpy<2,>=1.23.2 in ./venv/lib/python3.11/site-packages (from pandas) (1.26.2)\r\n",
      "Requirement already satisfied: python-dateutil>=2.8.2 in ./venv/lib/python3.11/site-packages (from pandas) (2.8.2)\r\n",
      "Requirement already satisfied: pytz>=2020.1 in ./venv/lib/python3.11/site-packages (from pandas) (2023.3.post1)\r\n",
      "Requirement already satisfied: tzdata>=2022.1 in ./venv/lib/python3.11/site-packages (from pandas) (2023.3)\r\n",
      "Requirement already satisfied: contourpy>=1.0.1 in ./venv/lib/python3.11/site-packages (from matplotlib) (1.2.0)\r\n",
      "Requirement already satisfied: cycler>=0.10 in ./venv/lib/python3.11/site-packages (from matplotlib) (0.12.1)\r\n",
      "Requirement already satisfied: fonttools>=4.22.0 in ./venv/lib/python3.11/site-packages (from matplotlib) (4.45.1)\r\n",
      "Requirement already satisfied: kiwisolver>=1.3.1 in ./venv/lib/python3.11/site-packages (from matplotlib) (1.4.5)\r\n",
      "Requirement already satisfied: packaging>=20.0 in ./venv/lib/python3.11/site-packages (from matplotlib) (23.2)\r\n",
      "Requirement already satisfied: pillow>=8 in ./venv/lib/python3.11/site-packages (from matplotlib) (10.1.0)\r\n",
      "Requirement already satisfied: pyparsing>=2.3.1 in ./venv/lib/python3.11/site-packages (from matplotlib) (3.1.1)\r\n",
      "Requirement already satisfied: six>=1.5 in ./venv/lib/python3.11/site-packages (from python-dateutil>=2.8.2->pandas) (1.16.0)\r\n",
      "\r\n",
      "\u001B[1m[\u001B[0m\u001B[34;49mnotice\u001B[0m\u001B[1;39;49m]\u001B[0m\u001B[39;49m A new release of pip is available: \u001B[0m\u001B[31;49m23.2.1\u001B[0m\u001B[39;49m -> \u001B[0m\u001B[32;49m23.3.1\u001B[0m\r\n",
      "\u001B[1m[\u001B[0m\u001B[34;49mnotice\u001B[0m\u001B[1;39;49m]\u001B[0m\u001B[39;49m To update, run: \u001B[0m\u001B[32;49mpip install --upgrade pip\u001B[0m\r\n"
     ]
    }
   ],
   "source": [
    "# install required libraries\n",
    "!pip install pandas matplotlib seaborn "
   ]
  },
  {
   "cell_type": "code",
   "execution_count": 3,
   "id": "180fcc2fc4b46097",
   "metadata": {
    "collapsed": false,
    "ExecuteTime": {
     "end_time": "2023-12-12T23:45:21.916463Z",
     "start_time": "2023-12-12T23:45:21.473357Z"
    }
   },
   "outputs": [
    {
     "data": {
      "text/plain": "  Animal Symptom 1             Symptom 2 Symptom 3    Symptom 4    Symptom 5  \\\n0    dog     fever             diarrhoea     vomit  weight loss  dehydration   \n1    dog     fever             diarrhoea     cough    tiredness         pain   \n2    dog     fever             diarrhoea     cough        vomit     anorexia   \n3    dog     fever  breathing difficulty     cough     lethargy     sneering   \n4    dog     fever             diarrhoea     cough     lethargy     blue eye   \n\n  Dangerous  \n0       yes  \n1       yes  \n2       yes  \n3       yes  \n4       yes  ",
      "text/html": "<div>\n<style scoped>\n    .dataframe tbody tr th:only-of-type {\n        vertical-align: middle;\n    }\n\n    .dataframe tbody tr th {\n        vertical-align: top;\n    }\n\n    .dataframe thead th {\n        text-align: right;\n    }\n</style>\n<table border=\"1\" class=\"dataframe\">\n  <thead>\n    <tr style=\"text-align: right;\">\n      <th></th>\n      <th>Animal</th>\n      <th>Symptom 1</th>\n      <th>Symptom 2</th>\n      <th>Symptom 3</th>\n      <th>Symptom 4</th>\n      <th>Symptom 5</th>\n      <th>Dangerous</th>\n    </tr>\n  </thead>\n  <tbody>\n    <tr>\n      <th>0</th>\n      <td>dog</td>\n      <td>fever</td>\n      <td>diarrhoea</td>\n      <td>vomit</td>\n      <td>weight loss</td>\n      <td>dehydration</td>\n      <td>yes</td>\n    </tr>\n    <tr>\n      <th>1</th>\n      <td>dog</td>\n      <td>fever</td>\n      <td>diarrhoea</td>\n      <td>cough</td>\n      <td>tiredness</td>\n      <td>pain</td>\n      <td>yes</td>\n    </tr>\n    <tr>\n      <th>2</th>\n      <td>dog</td>\n      <td>fever</td>\n      <td>diarrhoea</td>\n      <td>cough</td>\n      <td>vomit</td>\n      <td>anorexia</td>\n      <td>yes</td>\n    </tr>\n    <tr>\n      <th>3</th>\n      <td>dog</td>\n      <td>fever</td>\n      <td>breathing difficulty</td>\n      <td>cough</td>\n      <td>lethargy</td>\n      <td>sneering</td>\n      <td>yes</td>\n    </tr>\n    <tr>\n      <th>4</th>\n      <td>dog</td>\n      <td>fever</td>\n      <td>diarrhoea</td>\n      <td>cough</td>\n      <td>lethargy</td>\n      <td>blue eye</td>\n      <td>yes</td>\n    </tr>\n  </tbody>\n</table>\n</div>"
     },
     "execution_count": 3,
     "metadata": {},
     "output_type": "execute_result"
    }
   ],
   "source": [
    "# import required libraries\n",
    "import pandas as pd\n",
    "import matplotlib.pyplot as plt\n",
    "import seaborn as sns\n",
    "\n",
    "# import the dataset\n",
    "animal_data = pd.read_csv(\"data/data.csv\")\n",
    "\n",
    "# view first 5 rows of dataset\n",
    "animal_data.head()"
   ]
  },
  {
   "cell_type": "markdown",
   "id": "5b360be0c489f738",
   "metadata": {
    "collapsed": false
   },
   "source": [
    "#### Preliminary Analysis on Dataset"
   ]
  },
  {
   "cell_type": "code",
   "execution_count": 4,
   "id": "de8d4831f1cc51b3",
   "metadata": {
    "collapsed": false,
    "ExecuteTime": {
     "end_time": "2023-12-12T23:45:21.962144Z",
     "start_time": "2023-12-12T23:45:21.920666Z"
    }
   },
   "outputs": [
    {
     "data": {
      "text/plain": "         Animal Symptom 1  Symptom 2 Symptom 3    Symptom 4 Symptom 5  \\\ncount       869       869        869       869          869       869   \nunique       34       208        209       206          196       182   \ntop     buffalo     fever  diarrhoea     cough  weight loss      pain   \nfreq        128       271        125        97          117       167   \n\n       Dangerous  \ncount        869  \nunique         2  \ntop          yes  \nfreq         849  ",
      "text/html": "<div>\n<style scoped>\n    .dataframe tbody tr th:only-of-type {\n        vertical-align: middle;\n    }\n\n    .dataframe tbody tr th {\n        vertical-align: top;\n    }\n\n    .dataframe thead th {\n        text-align: right;\n    }\n</style>\n<table border=\"1\" class=\"dataframe\">\n  <thead>\n    <tr style=\"text-align: right;\">\n      <th></th>\n      <th>Animal</th>\n      <th>Symptom 1</th>\n      <th>Symptom 2</th>\n      <th>Symptom 3</th>\n      <th>Symptom 4</th>\n      <th>Symptom 5</th>\n      <th>Dangerous</th>\n    </tr>\n  </thead>\n  <tbody>\n    <tr>\n      <th>count</th>\n      <td>869</td>\n      <td>869</td>\n      <td>869</td>\n      <td>869</td>\n      <td>869</td>\n      <td>869</td>\n      <td>869</td>\n    </tr>\n    <tr>\n      <th>unique</th>\n      <td>34</td>\n      <td>208</td>\n      <td>209</td>\n      <td>206</td>\n      <td>196</td>\n      <td>182</td>\n      <td>2</td>\n    </tr>\n    <tr>\n      <th>top</th>\n      <td>buffalo</td>\n      <td>fever</td>\n      <td>diarrhoea</td>\n      <td>cough</td>\n      <td>weight loss</td>\n      <td>pain</td>\n      <td>yes</td>\n    </tr>\n    <tr>\n      <th>freq</th>\n      <td>128</td>\n      <td>271</td>\n      <td>125</td>\n      <td>97</td>\n      <td>117</td>\n      <td>167</td>\n      <td>849</td>\n    </tr>\n  </tbody>\n</table>\n</div>"
     },
     "execution_count": 4,
     "metadata": {},
     "output_type": "execute_result"
    }
   ],
   "source": [
    "# describe the dataset\n",
    "animal_data.describe()"
   ]
  },
  {
   "cell_type": "markdown",
   "id": "311a3e6beadfad4b",
   "metadata": {
    "collapsed": false
   },
   "source": [
    "From the above, it can be gleaned that \n",
    "- There are 869 observations in the dataset.\n",
    "- There are 34 unique animals in the dataset with buffalo being the most common animal in the dataset."
   ]
  },
  {
   "cell_type": "markdown",
   "id": "7e9f09d880d32191",
   "metadata": {
    "collapsed": false
   },
   "source": [
    "## Exploratory Analysis"
   ]
  },
  {
   "cell_type": "markdown",
   "id": "f61673a1031cc094",
   "metadata": {
    "collapsed": false
   },
   "source": [
    "### 1. What kinds of animals are present in the dataset and in what quantities?\n",
    "The following is a histogram displaying each of the distinct animals in the dataset and the quantities in which they occur."
   ]
  },
  {
   "cell_type": "code",
   "execution_count": 5,
   "id": "5750daab2aeaa219",
   "metadata": {
    "collapsed": false,
    "ExecuteTime": {
     "end_time": "2023-12-12T23:45:22.318730Z",
     "start_time": "2023-12-12T23:45:22.209036Z"
    }
   },
   "outputs": [
    {
     "data": {
      "text/plain": "<Axes: xlabel='Animal', ylabel='Count'>"
     },
     "execution_count": 5,
     "metadata": {},
     "output_type": "execute_result"
    }
   ],
   "source": [
    "# rotate the x-axis labels so they can fit in the same space\n",
    "plt.xticks(rotation=90)\n",
    "\n",
    "# plot a histogram of the animals and their frequencies\n",
    "sns.histplot(animal_data, x=\"Animal\")"
   ]
  },
  {
   "cell_type": "markdown",
   "id": "792967a135b1e36d",
   "metadata": {
    "collapsed": false
   },
   "source": [
    "From the results above, some of the animals present are dogs, cats, rabbits, cows, hen, cattle, etc. and the quantities in which they occur in the dataset ranges from 1 to over 120."
   ]
  },
  {
   "cell_type": "markdown",
   "id": "6293a2c44e6d8572",
   "metadata": {
    "collapsed": false
   },
   "source": [
    "### 2. What is the proportion of domestic animals to wild animals in the dataset?\n",
    "I have arbitrarily classified the following animals in the dataset as domestic:\n",
    " - dog\n",
    " - cat\n",
    " - rabbit\n",
    " - cow\n",
    " - hen\n",
    " - cattle\n",
    " - horse\n",
    " - hamster\n",
    " - goat\n",
    " - sheep\n",
    " - pig\n",
    " - duck\n",
    " - donkey\n",
    " - mule\n",
    "\n",
    "My hypothesis is that the dataset will contain more domestic animals than wild animals as domestic animals are easier to find.\n",
    "\n",
    "A good way to visualize this proportion would be with a pie chart, and the following pie chart displays the proportion of domestic animals to wild animals in the dataset:"
   ]
  },
  {
   "cell_type": "code",
   "execution_count": 6,
   "id": "c273558c073f64bc",
   "metadata": {
    "collapsed": false,
    "ExecuteTime": {
     "end_time": "2023-12-12T23:45:22.356629Z",
     "start_time": "2023-12-12T23:45:22.332329Z"
    }
   },
   "outputs": [],
   "source": [
    "# define function for classifying animals\n",
    "def is_wild(animal_index: int) -> str:\n",
    "    \"\"\"Return True if the animal at index `animal_index` is wild. Otherwise, return False.\"\"\"\n",
    "    domestic_animals = [\"dog\", \"cat\", \"rabbit\", \"cow\", \"hen\", \"cattle\", \"horse\", \"hamster\", \"goat\", \"sheep\", \"pig\", \"duck\", \"donkey\", \"mule\"]\n",
    "    return \"wild\" if animal_data.loc[animal_index, \"Animal\"] not in domestic_animals else \"domestic\"\n",
    "\n",
    "# group the data using the is_wild function\n",
    "groups = animal_data.groupby(by=is_wild)\n",
    "\n",
    "# visualize the groups on a pie chart\n",
    "labels = []\n",
    "values = []\n",
    "\n",
    "for group in groups:\n",
    "    labels.append(group[0])  # add group name to list of labels\n",
    "    values.append(len(group[1]))  # add number of animals in group to list of values\n",
    "\n",
    "plt.pie(values, labels=labels, autopct=\"%0.2f%%\")\n",
    "plt.show()"
   ]
  },
  {
   "cell_type": "markdown",
   "id": "b7eedfb127325866",
   "metadata": {
    "collapsed": false
   },
   "source": [
    "Hence, 52.36% of the animals in the dataset are domestic animals whereas 47.64% of the animals in the dataset are wild animals.\n",
    "This is not as big of a difference as I had anticipated but still confirms my initial hypothesis."
   ]
  },
  {
   "cell_type": "markdown",
   "id": "eae8968826a15945",
   "metadata": {
    "collapsed": false
   },
   "source": [
    "#### 3. What are the different symptoms and in what quantities do they occur?\n",
    "A histogram will be a good way to visualize the distinct symptoms in the dataset and their frequency of occurrence in the dataset.\n"
   ]
  },
  {
   "cell_type": "code",
   "execution_count": 9,
   "id": "9de0f7a929bd687a",
   "metadata": {
    "collapsed": false,
    "ExecuteTime": {
     "end_time": "2023-12-12T23:45:34.924683Z",
     "start_time": "2023-12-12T23:45:33.458157Z"
    }
   },
   "outputs": [
    {
     "name": "stdout",
     "output_type": "stream",
     "text": [
      "Using matplotlib backend: MacOSX\n"
     ]
    },
    {
     "data": {
      "text/plain": "<Axes: ylabel='Count'>"
     },
     "execution_count": 9,
     "metadata": {},
     "output_type": "execute_result"
    }
   ],
   "source": [
    "# make the plots interactive\n",
    "%matplotlib\n",
    "\n",
    "# merge symptoms 1 - 5 into one data series.\n",
    "data = pd.concat((animal_data[\"Symptom 1\"], animal_data[\"Symptom 2\"], animal_data[\"Symptom 3\"], animal_data[\"Symptom 4\"], animal_data[\"Symptom 5\"]))\n",
    "\n",
    "# increase the size of the figure(histogram) since there will be a high number of bins.\n",
    "from matplotlib import rcParams\n",
    "rcParams[\"figure.figsize\"] = 30, 19.2\n",
    "\n",
    "# align the bar labels vertically\n",
    "plt.xticks(rotation=90)\n",
    "\n",
    "# plot the histogram\n",
    "sns.histplot(data)"
   ]
  },
  {
   "cell_type": "code",
   "execution_count": 7,
   "id": "bcde9524803ba24d",
   "metadata": {
    "ExecuteTime": {
     "end_time": "2023-12-12T23:39:19.782628Z",
     "start_time": "2023-12-12T23:39:19.776297Z"
    },
    "collapsed": false
   },
   "outputs": [],
   "source": [
    "# reset figure size to default\n",
    "rcParams[\"figure.figsize\"] = 6.4, 4.8"
   ]
  }
 ],
 "metadata": {
  "kernelspec": {
   "display_name": "Python 3 (ipykernel)",
   "language": "python",
   "name": "python3"
  },
  "language_info": {
   "codemirror_mode": {
    "name": "ipython",
    "version": 3
   },
   "file_extension": ".py",
   "mimetype": "text/x-python",
   "name": "python",
   "nbconvert_exporter": "python",
   "pygments_lexer": "ipython3",
   "version": "3.11.5"
  }
 },
 "nbformat": 4,
 "nbformat_minor": 5
}
