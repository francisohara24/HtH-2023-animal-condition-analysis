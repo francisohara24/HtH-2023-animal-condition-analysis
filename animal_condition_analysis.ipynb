{
 "cells": [
  {
   "cell_type": "markdown",
   "source": [
    "## Instructions\n",
    "Today's Tasks:\n",
    "1. Find a dataset you want to analyze on Kaggle or another site (make sure the dataset is in one file, csv format!)\n",
    "2. Create a GitHub repository for your final project and clone it in your local computer\n",
    "3.Create a README.md for the repository that briefly explains why you were interested in this data and a list of at least 10 questions you want to answer using the dataset with, at least, 1 visualization per question.\n",
    "4. Create a Jupyter notebook file for your data analysis in your local copy of the repository.\n",
    "5. Add the dataset, Jupyter notebook file, and READMEmd to your repository, commit the changes, and push them to origin."
   ],
   "metadata": {
    "collapsed": false
   },
   "id": "af436efdaed8974d"
  },
  {
   "cell_type": "markdown",
   "source": [
    "## Preliminary Analysis\n",
    "1. Describe the data set\n",
    "2. List all columns and datatype of each column\n",
    "3. List all null columns"
   ],
   "metadata": {
    "collapsed": false
   },
   "id": "70f3de245da89f46"
  },
  {
   "cell_type": "markdown",
   "source": [
    "## Exploratory Analysis"
   ],
   "metadata": {
    "collapsed": false
   },
   "id": "7e9f09d880d32191"
  },
  {
   "cell_type": "markdown",
   "source": [
    "### 1. What kinds of animals are present in the dataset and in what quantities?"
   ],
   "metadata": {
    "collapsed": false
   },
   "id": "f61673a1031cc094"
  }
 ],
 "metadata": {
  "kernelspec": {
   "display_name": "Python 3",
   "language": "python",
   "name": "python3"
  },
  "language_info": {
   "codemirror_mode": {
    "name": "ipython",
    "version": 2
   },
   "file_extension": ".py",
   "mimetype": "text/x-python",
   "name": "python",
   "nbconvert_exporter": "python",
   "pygments_lexer": "ipython2",
   "version": "2.7.6"
  }
 },
 "nbformat": 4,
 "nbformat_minor": 5
}
